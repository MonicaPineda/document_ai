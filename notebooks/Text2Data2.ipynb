{
 "cells": [
  {
   "cell_type": "code",
   "execution_count": 1,
   "id": "f93e1e0a-2a36-4e64-bfdc-6ea598da5864",
   "metadata": {},
   "outputs": [],
   "source": [
    "import os\n",
    "import sys\n",
    "file_location = os.path\n",
    "sys.path.append( \"../../\")\n",
    "from document_ai.src.extract_text import TextExtractor\n",
    "from document_ai.src.document_processor import DocumentProcessor\n",
    "\n",
    "from google.cloud import documentai_v1beta3 as documentai\n",
    "import re\n",
    "from collections import OrderedDict\n",
    "import json\n",
    "\n",
    "project_id='project_id'\n",
    "location = 'us'           # Replace with 'eu' if processor does not use 'us' location\n",
    "file_path = '../data/test_docai.pdf'    # Replace this with the name of the pdf file to process if necessary\n",
    "processor_id = 'processor_id'\n",
    "credentials='path_to_credentials'\n",
    "title_regex=r\"^(([0-9]{1,2}\\.)+(([0-9]{1,2}( |\\n))|(\\s[a-zA-Z])))|^[0-9]{1,2}(\\. |\\.\\n| )\""
   ]
  },
  {
   "cell_type": "markdown",
   "id": "afe01823",
   "metadata": {},
   "source": [
    "# Document generation from local file"
   ]
  },
  {
   "cell_type": "code",
   "execution_count": 3,
   "id": "ae465a36-7e09-489d-8ee7-e4403a2d6906",
   "metadata": {},
   "outputs": [
    {
     "name": "stdout",
     "output_type": "stream",
     "text": [
      "projects/smart-helios-agr/locations/us/processors/9eb5c5cdacd814f0\n"
     ]
    }
   ],
   "source": [
    "document_text= DocumentProcessor(project_id,location, processor_id, credentials_path=credentials)\n",
    "document=document_text.online_process(file_path)\n",
    "text = document.text\n"
   ]
  },
  {
   "cell_type": "markdown",
   "id": "eb6f1137",
   "metadata": {},
   "source": [
    "# Extracting text blocks"
   ]
  },
  {
   "cell_type": "code",
   "execution_count": 5,
   "id": "b64fa6df",
   "metadata": {},
   "outputs": [],
   "source": [
    "text_extractor=TextExtractor(document, text)\n",
    "document_blocks=text_extractor.get_blocks()\n",
    "document_structure=text_extractor.structure_generator(document_blocks, title_regex)"
   ]
  },
  {
   "cell_type": "code",
   "execution_count": 8,
   "id": "b2547bd4",
   "metadata": {},
   "outputs": [],
   "source": [
    "with open('../output/output_test.json', 'w') as f:\n",
    "    json.dump(document_structure, f,  indent=4, ensure_ascii=False)"
   ]
  }
 ],
 "metadata": {
  "environment": {
   "kernel": "python3",
   "name": "common-cpu.m91",
   "type": "gcloud",
   "uri": "gcr.io/deeplearning-platform-release/base-cpu:m91"
  },
  "kernelspec": {
   "display_name": "Python 3",
   "language": "python",
   "name": "python3"
  },
  "language_info": {
   "codemirror_mode": {
    "name": "ipython",
    "version": 3
   },
   "file_extension": ".py",
   "mimetype": "text/x-python",
   "name": "python",
   "nbconvert_exporter": "python",
   "pygments_lexer": "ipython3",
   "version": "3.7.12"
  }
 },
 "nbformat": 4,
 "nbformat_minor": 5
}
